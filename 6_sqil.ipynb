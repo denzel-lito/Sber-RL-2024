{
  "cells": [
    {
      "cell_type": "markdown",
      "metadata": {
        "id": "PQDSU_zXGDAu"
      },
      "source": [
        "#Тетрадка 6. Имитационное обучение:  алгоритм SQIL.\n",
        "\n",
        "Научиться имитировать поведение экспертов из демонстраций может быть непросто, особенно в средах с многомерными непрерывными наблюдениями и неизвестной динамикой. Методы копирования поведения, страдают от сдвига распределения (distribution shift): поскольку агент жадно имитирует продемонстрированные действия, он может отклоняться от продемонстрированных состояний, что приводит к накоплению ошибок.\n",
        "\n",
        "Оригинальная статья: [SQIL: Imitation Learning via Reinforcement Learning with Sparse Rewards](https://arxiv.org/abs/1905.11108)\n",
        "\n",
        "В данной части мы попробуем применить идею из этой статьи для среды ``LunarLanderContinuous-v2``, воспользовавшись кодом алгоритма DDPG с прошлого семинара."
      ]
    },
    {
      "cell_type": "code",
      "execution_count": null,
      "metadata": {
        "cellView": "form",
        "id": "xLO7IRJuhAQJ",
        "colab": {
          "base_uri": "https://localhost:8080/"
        },
        "outputId": "273b906f-6fcf-4a2b-9fba-a61805297426"
      },
      "outputs": [
        {
          "output_type": "stream",
          "name": "stdout",
          "text": [
            "49 packages can be upgraded. Run 'apt list --upgradable' to see them.\n",
            "The following additional packages will be installed:\n",
            "  swig4.0\n",
            "Suggested packages:\n",
            "  swig-doc swig-examples swig4.0-examples swig4.0-doc\n",
            "The following NEW packages will be installed:\n",
            "  swig swig4.0\n",
            "0 upgraded, 2 newly installed, 0 to remove and 49 not upgraded.\n",
            "Need to get 1,116 kB of archives.\n",
            "After this operation, 5,542 kB of additional disk space will be used.\n",
            "Selecting previously unselected package swig4.0.\n",
            "(Reading database ... 121753 files and directories currently installed.)\n",
            "Preparing to unpack .../swig4.0_4.0.2-1ubuntu1_amd64.deb ...\n",
            "Unpacking swig4.0 (4.0.2-1ubuntu1) ...\n",
            "Selecting previously unselected package swig.\n",
            "Preparing to unpack .../swig_4.0.2-1ubuntu1_all.deb ...\n",
            "Unpacking swig (4.0.2-1ubuntu1) ...\n",
            "Setting up swig4.0 (4.0.2-1ubuntu1) ...\n",
            "Setting up swig (4.0.2-1ubuntu1) ...\n",
            "Processing triggers for man-db (2.10.2-1) ...\n",
            "\u001b[2K     \u001b[90m━━━━━━━━━━━━━━━━━━━━━━━━━━━━━━━━━━━━━━━━\u001b[0m \u001b[32m374.5/374.5 kB\u001b[0m \u001b[31m1.8 MB/s\u001b[0m eta \u001b[36m0:00:00\u001b[0m\n",
            "\u001b[?25h  Preparing metadata (setup.py) ... \u001b[?25l\u001b[?25hdone\n",
            "  Building wheel for box2d-py (setup.py) ... \u001b[?25l\u001b[?25hdone\n",
            "\u001b[2K     \u001b[90m━━━━━━━━━━━━━━━━━━━━━━━━━━━━━━━━━━━━━━━━\u001b[0m \u001b[32m953.9/953.9 kB\u001b[0m \u001b[31m5.5 MB/s\u001b[0m eta \u001b[36m0:00:00\u001b[0m\n",
            "\u001b[2K     \u001b[90m━━━━━━━━━━━━━━━━━━━━━━━━━━━━━━━━━━━━━━━━\u001b[0m \u001b[32m374.4/374.4 kB\u001b[0m \u001b[31m35.9 MB/s\u001b[0m eta \u001b[36m0:00:00\u001b[0m\n",
            "\u001b[?25h  Preparing metadata (setup.py) ... \u001b[?25l\u001b[?25hdone\n",
            "\u001b[2K     \u001b[90m━━━━━━━━━━━━━━━━━━━━━━━━━━━━━━━━━━━━━━━━\u001b[0m \u001b[32m1.9/1.9 MB\u001b[0m \u001b[31m30.0 MB/s\u001b[0m eta \u001b[36m0:00:00\u001b[0m\n",
            "\u001b[2K     \u001b[90m━━━━━━━━━━━━━━━━━━━━━━━━━━━━━━━━━━━━━━━━\u001b[0m \u001b[32m434.7/434.7 kB\u001b[0m \u001b[31m40.4 MB/s\u001b[0m eta \u001b[36m0:00:00\u001b[0m\n",
            "\u001b[?25h  Installing build dependencies ... \u001b[?25l\u001b[?25hdone\n",
            "  Getting requirements to build wheel ... \u001b[?25l\u001b[?25hdone\n",
            "  Preparing metadata (pyproject.toml) ... \u001b[?25l\u001b[?25hdone\n",
            "\u001b[2K     \u001b[90m━━━━━━━━━━━━━━━━━━━━━━━━━━━━━━━━━━━━━━━━\u001b[0m \u001b[32m1.7/1.7 MB\u001b[0m \u001b[31m73.9 MB/s\u001b[0m eta \u001b[36m0:00:00\u001b[0m\n",
            "\u001b[?25h  Building wheel for box2d-py (setup.py) ... \u001b[?25l\u001b[?25hdone\n",
            "  Building wheel for AutoROM.accept-rom-license (pyproject.toml) ... \u001b[?25l\u001b[?25hdone\n",
            "\u001b[2K     \u001b[90m━━━━━━━━━━━━━━━━━━━━━━━━━━━━━━━━━━━━━━━━\u001b[0m \u001b[32m67.5/67.5 kB\u001b[0m \u001b[31m1.2 MB/s\u001b[0m eta \u001b[36m0:00:00\u001b[0m\n",
            "\u001b[?25h"
          ]
        }
      ],
      "source": [
        "# @title Установка зависимостей\n",
        "try:\n",
        "    import google.colab\n",
        "    COLAB = True\n",
        "except ModuleNotFoundError:\n",
        "    COLAB = False\n",
        "    pass\n",
        "\n",
        "if COLAB:\n",
        "    !apt -qq update -y\n",
        "    !apt -qq install swig -y\n",
        "    !pip -q install box2d-py\n",
        "    !pip -q install \"gymnasium[classic-control, box2d, atari, accept-rom-license]\"\n",
        "    !pip -q install piglet\n",
        "    !pip -q install imageio_ffmpeg\n",
        "    !pip -q install moviepy==1.0.3"
      ]
    },
    {
      "cell_type": "code",
      "execution_count": null,
      "metadata": {
        "id": "CZPVELn-GDAu",
        "cellView": "form",
        "colab": {
          "base_uri": "https://localhost:8080/"
        },
        "outputId": "7ca30034-ff95-4495-8184-07c645fa7aad"
      },
      "outputs": [
        {
          "output_type": "stream",
          "name": "stdout",
          "text": [
            "cuda\n"
          ]
        }
      ],
      "source": [
        "# @title Импортирование зависимостей\n",
        "import math\n",
        "import random\n",
        "\n",
        "import gymnasium as gym\n",
        "import numpy as np\n",
        "\n",
        "import torch\n",
        "import torch.nn as nn\n",
        "import torch.optim as optim\n",
        "import torch.nn.functional as F\n",
        "from torch.distributions import Normal\n",
        "\n",
        "# библиотеки и функции, которые потребуеются для показа видео\n",
        "import glob\n",
        "import io\n",
        "import base64\n",
        "from IPython import display as ipythondisplay\n",
        "from IPython.display import HTML\n",
        "import matplotlib.pyplot as plt\n",
        "from gymnasium.wrappers.record_video import RecordVideo\n",
        "\n",
        "%matplotlib inline\n",
        "\n",
        "import warnings\n",
        "warnings.filterwarnings(\"ignore\", category=DeprecationWarning)\n",
        "\n",
        "\n",
        "def show_video(folder=\"./video\"):\n",
        "    mp4list = glob.glob(folder + '/*.mp4')\n",
        "    if len(mp4list) > 0:\n",
        "        mp4 = sorted(mp4list, key=lambda x: x[-15:], reverse=True)[0]\n",
        "        video = io.open(mp4, 'r+b').read()\n",
        "        encoded = base64.b64encode(video)\n",
        "        ipythondisplay.display(HTML(data='''<video alt=\"test\" autoplay\n",
        "                loop controls style=\"height: 400px;\">\n",
        "                <source src=\"data:video/mp4;base64,{0}\" type=\"video/mp4\" />\n",
        "             </video>'''.format(encoded.decode('ascii'))))\n",
        "    else:\n",
        "        print(\"Could not find video\")\n",
        "\n",
        "\n",
        "def show_progress(rewards_batch, log, reward_range=None):\n",
        "    \"\"\"\n",
        "    Удобная функция, которая отображает прогресс обучения.\n",
        "    \"\"\"\n",
        "\n",
        "    if reward_range is None:\n",
        "        reward_range = [-990, +10]\n",
        "    mean_reward = np.mean(rewards_batch)\n",
        "    log.append([mean_reward])\n",
        "\n",
        "    clear_output(True)\n",
        "    plt.figure(figsize=[8, 4])\n",
        "    plt.subplot(1, 2, 1)\n",
        "    plt.plot(list(zip(*log))[0], label='Mean rewards')\n",
        "    plt.legend(loc=4)\n",
        "    plt.grid()\n",
        "    plt.grid()\n",
        "    plt.show()\n",
        "\n",
        "use_cuda = torch.cuda.is_available()\n",
        "device = torch.device(\"cuda\" if use_cuda else \"cpu\")\n",
        "\n",
        "print(device)"
      ]
    },
    {
      "cell_type": "markdown",
      "metadata": {
        "id": "WpRWeOaSS4JN"
      },
      "source": [
        "# Нормализация действия и добавление шума:"
      ]
    },
    {
      "cell_type": "code",
      "execution_count": null,
      "metadata": {
        "id": "WkrMry8US3l2"
      },
      "outputs": [],
      "source": [
        "class NormalizedActions(gym.ActionWrapper):\n",
        "\n",
        "    def action(self, action):\n",
        "        low_bound = self.action_space.low\n",
        "        upper_bound = self.action_space.high\n",
        "        # [L, M, R]\n",
        "        # actions are in [-1, 1]\n",
        "        ####### Здесь ваш код ########\n",
        "        action = (action + 1) * 0.5 * (upper_bound - low_bound) + low_bound\n",
        "        ##############################\n",
        "        action = np.clip(action, low_bound, upper_bound)\n",
        "\n",
        "        return action\n",
        "\n",
        "    def reverse_action(self, action):\n",
        "        pass\n",
        "\n",
        "\n",
        "class GaussNoise:\n",
        "\n",
        "    def __init__(self, sigma):\n",
        "        super().__init__()\n",
        "\n",
        "        self.sigma = sigma\n",
        "\n",
        "    def get_action(self, action):\n",
        "        # add normal noise\n",
        "        ####### Здесь ваш код ########\n",
        "        noisy_action = np.random.normal(action, self.sigma)\n",
        "        ##############################\n",
        "        return noisy_action"
      ]
    },
    {
      "cell_type": "markdown",
      "metadata": {
        "id": "ESkyAhamS6ps"
      },
      "source": [
        "# Value и Policy сети:"
      ]
    },
    {
      "cell_type": "code",
      "execution_count": null,
      "metadata": {
        "id": "PMnBtE_lS7vy"
      },
      "outputs": [],
      "source": [
        "class ValueNetwork(nn.Module):\n",
        "    def __init__(\n",
        "            self,\n",
        "            num_inputs,\n",
        "            num_actions,\n",
        "            hidden_size,\n",
        "    ):\n",
        "        super().__init__()\n",
        "        # add 3 linear layers\n",
        "        ####### Здесь ваш код ########\n",
        "        self.net = nn.Sequential(\n",
        "            nn.Linear(num_inputs + num_actions, hidden_size),\n",
        "            nn.Tanh(),\n",
        "            nn.Linear(hidden_size, hidden_size),\n",
        "            nn.Tanh(),\n",
        "            nn.Linear(hidden_size, 1)\n",
        "        )\n",
        "        ##############################\n",
        "\n",
        "    def forward(self, state, action):\n",
        "        x = torch.cat([state, action], 1)\n",
        "        x = self.net(x)\n",
        "        return x\n",
        "\n",
        "\n",
        "class PolicyNetwork(nn.Module):\n",
        "    def __init__(\n",
        "            self,\n",
        "            num_inputs,\n",
        "            num_actions,\n",
        "            hidden_size,\n",
        "    ):\n",
        "        super().__init__()\n",
        "\n",
        "        # определяем граф вычисления для Policy Network\n",
        "        # add 3 linear layers\n",
        "        ####### Здесь ваш код ########\n",
        "        self.net =  nn.Sequential(\n",
        "            nn.Linear(num_inputs, hidden_size),\n",
        "            nn.Tanh(),\n",
        "            nn.Linear(hidden_size, hidden_size),\n",
        "            nn.Tanh(),\n",
        "            nn.Linear(hidden_size, num_actions)\n",
        "        )\n",
        "        ##############################\n",
        "\n",
        "    def forward(self, state):\n",
        "        # определяем прямой проход по графу вычислений\n",
        "        # x =\n",
        "        x = state\n",
        "        x = self.net(x)\n",
        "        return x\n",
        "\n",
        "    def get_action(self, state):\n",
        "        \"\"\"\n",
        "        функция для выбора действия\n",
        "        \"\"\"\n",
        "        state = torch.tensor(state, dtype=torch.float32).unsqueeze(0).to(device)\n",
        "        action = self.forward(state)\n",
        "        action = action.detach().cpu().numpy()[0]\n",
        "        action = np.clip(action, -1.0, 1.0)\n",
        "\n",
        "        return action"
      ]
    },
    {
      "cell_type": "markdown",
      "metadata": {
        "id": "Zz8GYof-S8gr"
      },
      "source": [
        "# DDPG обновление\n",
        "\n",
        "<img src=\"https://spinningup.openai.com/en/latest/_images/math/5811066e89799e65be299ec407846103fcf1f746.svg\">\n",
        "\n",
        "Оригинальная статья:  <a href=\"https://arxiv.org/abs/1509.02971\">Continuous control with deep reinforcement learning Arxiv</a>"
      ]
    },
    {
      "cell_type": "code",
      "execution_count": null,
      "metadata": {
        "id": "yG2548uTS-WL"
      },
      "outputs": [],
      "source": [
        "def ddpg_update(\n",
        "        state,\n",
        "        action,\n",
        "        reward,\n",
        "        next_state,\n",
        "        done,\n",
        "        gamma=0.99,\n",
        "        min_value=-np.inf,\n",
        "        max_value=np.inf,\n",
        "        soft_tau=0.001,\n",
        "):\n",
        "    state = torch.tensor(state, dtype=torch.float32).to(device)\n",
        "    next_state = torch.tensor(next_state, dtype=torch.float32).to(device)\n",
        "    action = torch.tensor(action, dtype=torch.float32).to(device)\n",
        "    reward = torch.tensor(reward, dtype=torch.float32).unsqueeze(1).to(device)\n",
        "    done = torch.tensor(np.float32(done)).unsqueeze(1).to(device)\n",
        "\n",
        "    # считаем policy loss по формуле выше, используя value_net\n",
        "    ####### Здесь ваш код ########\n",
        "    policy_loss = -value_net(state, policy_net(state)).mean()\n",
        "    ##############################\n",
        "\n",
        "    next_action = target_policy_net(next_state)\n",
        "    target_value = target_value_net(next_state, next_action.detach())\n",
        "    # считаем таргет Q функцию\n",
        "    ####### Здесь ваш код ########\n",
        "    expected_value = target_value * gamma * (1 - done) + reward\n",
        "    ##############################\n",
        "    expected_value = torch.clamp(expected_value, min_value, max_value)\n",
        "\n",
        "    value = value_net(state, action)\n",
        "    value_loss = nn.MSELoss()(value, expected_value.detach())\n",
        "\n",
        "\n",
        "    policy_optimizer.zero_grad()\n",
        "    policy_loss.backward()\n",
        "    policy_optimizer.step()\n",
        "\n",
        "    value_optimizer.zero_grad()\n",
        "    value_loss.backward()\n",
        "    value_optimizer.step()\n",
        "\n",
        "    for target_param, param in zip(target_value_net.parameters(), value_net.parameters()):\n",
        "        target_param.data.copy_(\n",
        "            target_param.data * (1.0 - soft_tau) + param.data * soft_tau\n",
        "        )\n",
        "\n",
        "    for target_param, param in zip(target_policy_net.parameters(), policy_net.parameters()):\n",
        "        target_param.data.copy_(\n",
        "            target_param.data * (1.0 - soft_tau) + param.data * soft_tau\n",
        "        )"
      ]
    },
    {
      "cell_type": "markdown",
      "metadata": {
        "id": "nv9a_CeQTAO_"
      },
      "source": [
        "# Стандартная и комбинированная память прецедентов:  "
      ]
    },
    {
      "cell_type": "code",
      "execution_count": null,
      "metadata": {
        "id": "JyIcEo8US_GS"
      },
      "outputs": [],
      "source": [
        "class ReplayBuffer:\n",
        "    def __init__(self, capacity):\n",
        "        self.capacity = capacity\n",
        "        self.buffer = []\n",
        "        self.position = 0\n",
        "\n",
        "    def push(self, state, action, reward, next_state, done):\n",
        "        if len(self.buffer) < self.capacity:\n",
        "            self.buffer.append(None)\n",
        "        self.buffer[self.position] = (state, action, reward, next_state, done)\n",
        "        self.position = (self.position + 1) % self.capacity\n",
        "\n",
        "    def sample(self, batch_size):\n",
        "        batch = random.sample(self.buffer, batch_size)\n",
        "        state, action, reward, next_state, done = map(np.stack, zip(*batch))\n",
        "        return state, action, reward, next_state, done\n",
        "\n",
        "    def __len__(self):\n",
        "        return len(self.buffer)\n",
        "\n",
        "\n",
        "class CombinedReplayBuffer:\n",
        "    def __init__(self, capacity):\n",
        "        self.capacity = capacity\n",
        "        self.demo = ReplayBuffer(self.capacity)\n",
        "        self.agent = ReplayBuffer(self.capacity)\n",
        "\n",
        "    def push_demo(self, state, action, reward, next_state, smart_done):\n",
        "        # модифицируем вознаграждения, как этого предусматривает алгоритм SQIL\n",
        "        # reward =\n",
        "        ####### Здесь ваш код ########\n",
        "        reward = 1\n",
        "        ##############################\n",
        "        self.demo.push(state, action, reward, next_state, smart_done)\n",
        "\n",
        "    def push(self, state, action, reward, next_state, smart_done):\n",
        "        # модифицируем вознаграждения, как этого предусматривает алгоритм SQIL\n",
        "        # reward =\n",
        "        ####### Здесь ваш код ########\n",
        "        reward = 0\n",
        "        ##############################\n",
        "        self.agent.push(state, action, reward, next_state, smart_done)\n",
        "\n",
        "\n",
        "    def sample(self, batch_size):\n",
        "        demo_batch_size = min(batch_size // 2, len(self.demo))\n",
        "        # набираем данные из обоих буферов\n",
        "        ####### Здесь ваш код ########\n",
        "        states, actions, rewards, next_states, dones = self.agent.sample(batch_size - demo_batch_size)\n",
        "        demo_states, demo_actions, demo_rewards, demo_next_states, demo_dones = self.demo.sample(demo_batch_size)\n",
        "        ##############################\n",
        "\n",
        "        return np.concatenate([states, demo_states]), \\\n",
        "               np.concatenate([actions, demo_actions]), \\\n",
        "               np.concatenate([rewards, demo_rewards]), \\\n",
        "               np.concatenate([next_states, demo_next_states]), \\\n",
        "               np.concatenate([dones, demo_dones])\n",
        "\n",
        "    def __len__(self):\n",
        "        return len(self.demo) + len(self.agent)"
      ]
    },
    {
      "cell_type": "markdown",
      "metadata": {
        "id": "Nk7is64CTCQH"
      },
      "source": [
        " # Метод ``generate_session``\n"
      ]
    },
    {
      "cell_type": "code",
      "execution_count": null,
      "metadata": {
        "id": "_IyL6wkFTDuY"
      },
      "outputs": [],
      "source": [
        "def generate_session(train=False):\n",
        "    \"\"\"эпизод взаимодействие агента со средой, а также вызов процесса обучения\"\"\"\n",
        "    total_reward = 0\n",
        "    state, info = env.reset()\n",
        "\n",
        "    done = False\n",
        "    while not done:\n",
        "        action = policy_net.get_action(state)\n",
        "        if train:\n",
        "            action = noise.get_action(action)\n",
        "        next_state, reward, term, trunc, info = env.step(action)\n",
        "        done = term or trunc\n",
        "        if train:\n",
        "            replay_buffer.push(state, action, reward, next_state, term)\n",
        "            if len(replay_buffer) > replay_buffer_size + 1500:\n",
        "                ddpg_update(*replay_buffer.sample(batch_size))\n",
        "        total_reward += reward\n",
        "        state = next_state\n",
        "        if done:\n",
        "            break\n",
        "\n",
        "    return total_reward"
      ]
    },
    {
      "cell_type": "markdown",
      "metadata": {
        "id": "5YB2qXtyTGPZ"
      },
      "source": [
        "# Задание гиперпараметров и инициализация всего и вся:"
      ]
    },
    {
      "cell_type": "code",
      "execution_count": null,
      "metadata": {
        "id": "vZOPhbttTE9P"
      },
      "outputs": [],
      "source": [
        "env_name = \"LunarLanderContinuous-v2\"\n",
        "\n",
        "max_steps = 350\n",
        "env = NormalizedActions(gym.make(env_name, max_episode_steps=max_steps))\n",
        "\n",
        "noise = GaussNoise(sigma=0.1)\n",
        "\n",
        "state_dim = env.observation_space.shape[0]\n",
        "action_dim = env.action_space.shape[0]\n",
        "hidden_dim = 512\n",
        "\n",
        "value_net = ValueNetwork(state_dim, action_dim, hidden_dim).to(device)\n",
        "policy_net = PolicyNetwork(state_dim, action_dim, hidden_dim).to(device)\n",
        "\n",
        "target_value_net = ValueNetwork(state_dim, action_dim, hidden_dim).to(device)\n",
        "target_policy_net = PolicyNetwork(state_dim, action_dim, hidden_dim).to(device)\n",
        "\n",
        "for target_param, param in zip(target_value_net.parameters(), value_net.parameters()):\n",
        "    target_param.data.copy_(param.data)\n",
        "\n",
        "for target_param, param in zip(target_policy_net.parameters(), policy_net.parameters()):\n",
        "    target_param.data.copy_(param.data)\n",
        "\n",
        "value_lr = 1e-3\n",
        "policy_lr = 1e-4\n",
        "\n",
        "value_optimizer = optim.Adam(value_net.parameters(), lr=value_lr, weight_decay=1e-6)\n",
        "policy_optimizer = optim.Adam(policy_net.parameters(), lr=policy_lr, weight_decay=1e-6)\n",
        "\n",
        "batch_size = 128"
      ]
    },
    {
      "cell_type": "markdown",
      "metadata": {
        "id": "qOMDZHwpTISu"
      },
      "source": [
        "### Генерация экспертных данных:"
      ]
    },
    {
      "cell_type": "code",
      "execution_count": null,
      "metadata": {
        "id": "BZBM4JsLTJH4",
        "colab": {
          "base_uri": "https://localhost:8080/"
        },
        "outputId": "c1f38c17-aee9-4667-c019-e43fb4367d5b"
      },
      "outputs": [
        {
          "output_type": "stream",
          "name": "stderr",
          "text": [
            "/usr/local/lib/python3.10/dist-packages/gymnasium/core.py:311: UserWarning: \u001b[33mWARN: env.continuous to get variables from other wrappers is deprecated and will be removed in v1.0, to get this variable you can do `env.unwrapped.continuous` for environment variables or `env.get_wrapper_attr('continuous')` that will search the reminding wrappers.\u001b[0m\n",
            "  logger.warn(\n"
          ]
        },
        {
          "output_type": "stream",
          "name": "stdout",
          "text": [
            "episode: 100, reward: 270.92580117843886, replay_size: 20053\n",
            "episode: 200, reward: 247.72822946879887, replay_size: 39563\n",
            "episode: 300, reward: 299.4570115422417, replay_size: 59696\n",
            "episode: 400, reward: 269.2462847615607, replay_size: 79681\n",
            "episode: 500, reward: 270.3516060489756, replay_size: 99915\n"
          ]
        }
      ],
      "source": [
        "from gymnasium.envs.box2d.lunar_lander import heuristic\n",
        "\n",
        "replay_buffer_size = 100000\n",
        "replay_buffer = CombinedReplayBuffer(replay_buffer_size)\n",
        "\n",
        "noise = GaussNoise(sigma=0.1)\n",
        "episodes = 0\n",
        "while len(replay_buffer) < replay_buffer_size:\n",
        "    episodes += 1\n",
        "    done = False\n",
        "    state, _ = env.reset()\n",
        "    episode_reward = 0\n",
        "    while not done:\n",
        "        action = noise.get_action(heuristic(env, state))\n",
        "        next_state, reward, terminated, truncated, _ = env.step(action)\n",
        "        replay_buffer.push_demo(state, action, reward, next_state, terminated)\n",
        "        done = terminated or truncated\n",
        "        episode_reward += reward\n",
        "        state = next_state\n",
        "    if episodes % 100 == 0:\n",
        "        print(f\"episode: {episodes}, reward: {episode_reward}, replay_size:\", len(replay_buffer))\n",
        "env.close()"
      ]
    },
    {
      "cell_type": "code",
      "execution_count": null,
      "metadata": {
        "id": "f8yn3DcdTK7W",
        "pycharm": {
          "is_executing": true
        },
        "colab": {
          "base_uri": "https://localhost:8080/"
        },
        "outputId": "3878940d-5176-4e45-b8dc-795adb9fe186"
      },
      "outputs": [
        {
          "output_type": "stream",
          "name": "stdout",
          "text": [
            "epoch #00\tmean reward (train) = -188.547\t\n",
            "epoch #01\tmean reward (train) = -295.161\t\n",
            "epoch #02\tmean reward (train) = -12.011\t\n",
            "epoch #03\tmean reward (train) = 119.453\t\n",
            "epoch #04\tmean reward (train) = 165.643\t\n",
            "epoch #05\tmean reward (train) = 255.137\t\n",
            "Выполнено!\n"
          ]
        }
      ],
      "source": [
        "env = NormalizedActions(gym.make(env_name, max_episode_steps=max_steps))\n",
        "noise = GaussNoise(sigma=0.001)\n",
        "valid_mean_rewards = []\n",
        "for i in range(100):\n",
        "    session_rewards_train = [generate_session(train=True) for _ in range(10)]\n",
        "\n",
        "    mean_reward = np.mean(session_rewards_train)\n",
        "    print(f\"epoch #{i:02d}\\tmean reward (train) = {mean_reward:.3f}\\t\")\n",
        "\n",
        "    if mean_reward > 200:\n",
        "        print(\"Выполнено!\")\n",
        "        break\n",
        "\n",
        "env.close()"
      ]
    },
    {
      "cell_type": "markdown",
      "metadata": {
        "id": "EjyY2GHPTMRy"
      },
      "source": [
        "# Посмотрим за полетом:"
      ]
    },
    {
      "cell_type": "code",
      "execution_count": null,
      "metadata": {
        "id": "91RCFUMkTPGT",
        "pycharm": {
          "is_executing": true
        },
        "colab": {
          "base_uri": "https://localhost:8080/",
          "height": 508
        },
        "outputId": "8e866c87-cfd7-4f94-aa3f-8c743889f9fc"
      },
      "outputs": [
        {
          "output_type": "stream",
          "name": "stdout",
          "text": [
            "Moviepy - Building video /content/video/rl-video-episode-0.mp4.\n",
            "Moviepy - Writing video /content/video/rl-video-episode-0.mp4\n",
            "\n"
          ]
        },
        {
          "output_type": "stream",
          "name": "stderr",
          "text": [
            "                                                               "
          ]
        },
        {
          "output_type": "stream",
          "name": "stdout",
          "text": [
            "Moviepy - Done !\n",
            "Moviepy - video ready /content/video/rl-video-episode-0.mp4\n"
          ]
        },
        {
          "output_type": "stream",
          "name": "stderr",
          "text": [
            "\r"
          ]
        },
        {
          "output_type": "display_data",
          "data": {
            "text/plain": [
              "<IPython.core.display.HTML object>"
            ],
            "text/html": [
              "<video alt=\"test\" autoplay\n",
              "                loop controls style=\"height: 400px;\">\n",
              "                <source src=\"data:video/mp4;base64,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\" type=\"video/mp4\" />\n",
              "             </video>"
            ]
          },
          "metadata": {}
        }
      ],
      "source": [
        "env = NormalizedActions(gym.make(env_name, max_episode_steps=max_steps, render_mode='rgb_array'))\n",
        "env = RecordVideo(env, f\"./video\")\n",
        "\n",
        "done = False\n",
        "\n",
        "state, info = env.reset()\n",
        "\n",
        "while not done:\n",
        "    action = policy_net.get_action(state)\n",
        "    state, _, term, trunc, info = env.step(action)\n",
        "    done = term or trunc\n",
        "\n",
        "env.close()\n",
        "show_video()"
      ]
    },
    {
      "cell_type": "code",
      "source": [],
      "metadata": {
        "id": "4-0_PJUaVFwg"
      },
      "execution_count": null,
      "outputs": []
    }
  ],
  "metadata": {
    "accelerator": "GPU",
    "colab": {
      "provenance": []
    },
    "kernelspec": {
      "display_name": "Python 3 (ipykernel)",
      "language": "python",
      "name": "python3"
    },
    "language_info": {
      "codemirror_mode": {
        "name": "ipython",
        "version": 3
      },
      "file_extension": ".py",
      "mimetype": "text/x-python",
      "name": "python",
      "nbconvert_exporter": "python",
      "pygments_lexer": "ipython3",
      "version": "3.9.16"
    }
  },
  "nbformat": 4,
  "nbformat_minor": 0
}