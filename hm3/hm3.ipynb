{
 "cells": [
  {
   "cell_type": "markdown",
   "id": "7b644eb7-2abc-4326-960e-fa05ae2e30dc",
   "metadata": {},
   "source": [
    "C. Аппроксимация Q функции\n",
    "\n",
    "Ознакомтесь с библиотекой CleanRL. Мы уже обучили алгоритм DQN на среде PongNoFrameskip-v4 для вас (ссылка на модель). <br>\n",
    "\n",
    "Ваша задача: вычислить функцию полезности действий Q(s,a), состояний V(s) и функцию преимущества A(s,a) для заданного набора состояний (data.npz).\n",
    "Для успешного выполнения вам необходимо разобраться в коде dqn_atari.py из CleanRL, используя обученную модель, вычислить Q функцию, по которой уже посчитать \n",
    "V(s) и A(s,a).<br><br>\n",
    "\n",
    "<b>Формат ввода</b>\n",
    "\n",
    "В файле data.npz находится список состояний из среды PongNoFrameskip-v4.\n",
    "В файле submit.json дан пример решения.<br><br>\n",
    "\n",
    "<b>Формат вывода</b>\n",
    "\n",
    "Измените файл submit.json, вычислив верные значения для каждого состояния."
   ]
  },
  {
   "cell_type": "code",
   "execution_count": null,
   "id": "f42c1c8f-9996-418d-8af6-95bab647a238",
   "metadata": {},
   "outputs": [],
   "source": [
    "# !pip -q install \"gymnasium[classic-control, atari, accept-rom-license]\""
   ]
  },
  {
   "cell_type": "code",
   "execution_count": 4,
   "id": "701fb4aa",
   "metadata": {},
   "outputs": [],
   "source": [
    "from dqn_atari import Args, make_env, QNetwork\n",
    "import gymnasium as gym\n",
    "import torch\n",
    "import json\n",
    "import numpy as np"
   ]
  },
  {
   "cell_type": "code",
   "execution_count": 2,
   "id": "778c855e-5bbb-4678-8091-dcf452cdda9c",
   "metadata": {},
   "outputs": [],
   "source": [
    "args = Args\n",
    "args.env_id = 'PongNoFrameskip-v4'"
   ]
  },
  {
   "cell_type": "code",
   "execution_count": 5,
   "id": "cdf26975-6a26-43dd-968c-a1b7dc370af1",
   "metadata": {},
   "outputs": [
    {
     "name": "stderr",
     "output_type": "stream",
     "text": [
      "A.L.E: Arcade Learning Environment (version 0.8.1+53f58b7)\n",
      "[Powered by Stella]\n"
     ]
    }
   ],
   "source": [
    "envs = gym.vector.SyncVectorEnv(\n",
    "        [make_env(args.env_id, args.seed + i, i, args.capture_video, 'xsr') for i in range(args.num_envs)]\n",
    "    )"
   ]
  },
  {
   "cell_type": "code",
   "execution_count": 6,
   "id": "39990cad-ac0f-4220-8ecb-c9aed72a4506",
   "metadata": {},
   "outputs": [
    {
     "data": {
      "text/plain": [
       "<All keys matched successfully>"
      ]
     },
     "execution_count": 6,
     "metadata": {},
     "output_type": "execute_result"
    }
   ],
   "source": [
    "q_network = QNetwork(envs)\n",
    "q_network.load_state_dict(torch.load('dqn_atari.cleanrl_model', map_location=torch.device('cpu')))"
   ]
  },
  {
   "cell_type": "code",
   "execution_count": 11,
   "id": "9b3e3031-c679-48ba-bd2f-f6f5adbcd291",
   "metadata": {},
   "outputs": [
    {
     "data": {
      "text/plain": [
       "(10000, 4, 84, 84)"
      ]
     },
     "execution_count": 11,
     "metadata": {},
     "output_type": "execute_result"
    }
   ],
   "source": [
    "states = np.load('data.npz')['observation']\n",
    "states.shape"
   ]
  },
  {
   "cell_type": "code",
   "execution_count": 27,
   "id": "5e1891f1-dae0-4fde-a4c1-0c469f558f92",
   "metadata": {},
   "outputs": [
    {
     "data": {
      "text/plain": [
       "[{'advantages': [0.0, 0.0, 0.0, 0.0, 0.0, 0.0],\n",
       "  'value': 0.0,\n",
       "  'qvalues': [0.0, 0.0, 0.0, 0.0, 0.0, 0.0]},\n",
       " {'advantages': [0.0, 0.0, 0.0, 0.0, 0.0, 0.0],\n",
       "  'value': 0.0,\n",
       "  'qvalues': [0.0, 0.0, 0.0, 0.0, 0.0, 0.0]}]"
      ]
     },
     "execution_count": 27,
     "metadata": {},
     "output_type": "execute_result"
    }
   ],
   "source": [
    "with open('submit_0.json') as f:\n",
    "    example = json.load(f)\n",
    "example[:2]"
   ]
  },
  {
   "cell_type": "code",
   "execution_count": 25,
   "id": "501e5b8c-23c7-49e8-b2af-057713bb2630",
   "metadata": {},
   "outputs": [],
   "source": [
    "ans = []\n",
    "for state in states:\n",
    "    obs = torch.from_numpy(state).unsqueeze(0).float()\n",
    "    q_values = q_network(obs)\n",
    "    actions = torch.argmax(q_values, dim=1)\n",
    "    values = q_values.gather(1, actions.unsqueeze(1))\n",
    "    advantages = (q_values - values).squeeze().cpu().detach().numpy().tolist()      # advantages: A(s, a) = Q(s, a) - V(s)\n",
    "    ans.append({'advantages': advantages,\n",
    "                'value': values.item(),\n",
    "                'qvalues': q_values.tolist()[0]})"
   ]
  },
  {
   "cell_type": "code",
   "execution_count": 29,
   "id": "21d5af6a-5ed2-49c6-aa04-137247a7be13",
   "metadata": {},
   "outputs": [],
   "source": [
    "with open('submit.json', 'w') as f:\n",
    "    json.dump(ans, f)"
   ]
  },
  {
   "cell_type": "code",
   "execution_count": null,
   "id": "40b4b9c6-e500-49b2-9e2c-c47dc9981f8d",
   "metadata": {},
   "outputs": [],
   "source": []
  }
 ],
 "metadata": {
  "kernelspec": {
   "display_name": "Python 3 (ipykernel)",
   "language": "python",
   "name": "python3"
  },
  "language_info": {
   "codemirror_mode": {
    "name": "ipython",
    "version": 3
   },
   "file_extension": ".py",
   "mimetype": "text/x-python",
   "name": "python",
   "nbconvert_exporter": "python",
   "pygments_lexer": "ipython3",
   "version": "3.8.19"
  },
  "toc": {
   "base_numbering": 1,
   "nav_menu": {},
   "number_sections": true,
   "sideBar": true,
   "skip_h1_title": false,
   "title_cell": "Table of Contents",
   "title_sidebar": "Contents",
   "toc_cell": false,
   "toc_position": {},
   "toc_section_display": true,
   "toc_window_display": false
  }
 },
 "nbformat": 4,
 "nbformat_minor": 5
}
